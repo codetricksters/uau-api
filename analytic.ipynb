{
 "cells": [
  {
   "cell_type": "code",
   "execution_count": 38,
   "id": "5722b994",
   "metadata": {},
   "outputs": [],
   "source": [
    "from pathlib import Path\n",
    "import json\n",
    "import pandas as pd\n",
    "from uau_api.settings import Settings\n",
    "from IPython.display import display, HTML\n",
    "from requests.compat import urlparse, unquote\n",
    "import re"
   ]
  },
  {
   "cell_type": "code",
   "execution_count": 3,
   "id": "c7b4a6b2",
   "metadata": {},
   "outputs": [],
   "source": [
    "wd = Path(Settings().WORKDIR)"
   ]
  },
  {
   "cell_type": "code",
   "execution_count": 8,
   "id": "4f10f655",
   "metadata": {},
   "outputs": [],
   "source": [
    "with open(wd / 'NotasUAU/downloaded.jsonl') as fc:\n",
    "    file_contents = [json.loads(line) for line in fc.readlines()]"
   ]
  },
  {
   "cell_type": "code",
   "execution_count": 9,
   "id": "0e2c23ab",
   "metadata": {},
   "outputs": [],
   "source": [
    "df = pd.json_normalize(file_contents)"
   ]
  },
  {
   "cell_type": "code",
   "execution_count": 45,
   "id": "164beae2",
   "metadata": {},
   "outputs": [],
   "source": [
    "def get_file_id(string):\n",
    "    query = urlparse(string).query\n",
    "    result = unquote(query) #273-420A-2-2024-04-10-00289348000736-63023-0.jpg\n",
    "    return result.split('&', 1)[0].rsplit('/')[-1].split('.')[0]"
   ]
  },
  {
   "cell_type": "code",
   "execution_count": 46,
   "id": "80a02a00",
   "metadata": {},
   "outputs": [
    {
     "data": {
      "text/html": [
       "<table border=\"1\" class=\"dataframe\">\n",
       "  <thead>\n",
       "    <tr style=\"text-align: right;\">\n",
       "      <th></th>\n",
       "      <th>Empresa</th>\n",
       "      <th>Obra</th>\n",
       "      <th>to_download.Processo</th>\n",
       "      <th>url</th>\n",
       "    </tr>\n",
       "  </thead>\n",
       "  <tbody>\n",
       "    <tr>\n",
       "      <th>0</th>\n",
       "      <td>273</td>\n",
       "      <td>420A</td>\n",
       "      <td>2</td>\n",
       "      <td><a href=\"https://hybrazil.sharepoint.com/sites/DataScience/Documentos%20Compartilhados/Forms/AllItems.aspx?id=%2Fsites%2FDataScience%2FDocumentos+Compartilhados%2FNotasUAU%2F2024%2F04%2F10%2F273-420A%2F273-420A-2-2024-04-10-00289348000736-63023-0.jpg&viewid=5b892423-10db-4b4f-a8f9-f0bdeafd317e&parent=%2Fsites%2FDataScience%2FDocumentos+Compartilhados%2FNotasUAU%2F\">273-420A-2-2024-04-10-00289348000736-63023-0</a></td>\n",
       "    </tr>\n",
       "    <tr>\n",
       "      <th>1</th>\n",
       "      <td>273</td>\n",
       "      <td>420A</td>\n",
       "      <td>2</td>\n",
       "      <td><a href=\"https://hybrazil.sharepoint.com/sites/DataScience/Documentos%20Compartilhados/Forms/AllItems.aspx?id=%2Fsites%2FDataScience%2FDocumentos+Compartilhados%2FNotasUAU%2F2024%2F04%2F10%2F273-420A%2F273-420A-2-2024-04-10-00289348000736-63023-1.jpg&viewid=5b892423-10db-4b4f-a8f9-f0bdeafd317e&parent=%2Fsites%2FDataScience%2FDocumentos+Compartilhados%2FNotasUAU%2F\">273-420A-2-2024-04-10-00289348000736-63023-1</a></td>\n",
       "    </tr>\n",
       "    <tr>\n",
       "      <th>2</th>\n",
       "      <td>273</td>\n",
       "      <td>420A</td>\n",
       "      <td>2</td>\n",
       "      <td><a href=\"https://hybrazil.sharepoint.com/sites/DataScience/Documentos%20Compartilhados/Forms/AllItems.aspx?id=%2Fsites%2FDataScience%2FDocumentos+Compartilhados%2FNotasUAU%2F2024%2F04%2F10%2F273-420A%2F273-420A-2-2024-04-10-00289348000736-63023-2.jpg&viewid=5b892423-10db-4b4f-a8f9-f0bdeafd317e&parent=%2Fsites%2FDataScience%2FDocumentos+Compartilhados%2FNotasUAU%2F\">273-420A-2-2024-04-10-00289348000736-63023-2</a></td>\n",
       "    </tr>\n",
       "    <tr>\n",
       "      <th>3</th>\n",
       "      <td>273</td>\n",
       "      <td>420A</td>\n",
       "      <td>3</td>\n",
       "      <td><a href=\"https://hybrazil.sharepoint.com/sites/DataScience/Documentos%20Compartilhados/Forms/AllItems.aspx?id=%2Fsites%2FDataScience%2FDocumentos+Compartilhados%2FNotasUAU%2F2024%2F04%2F10%2F273-420A%2F273-420A-3-2024-04-10-65793192000186-175108-0.jpg&viewid=5b892423-10db-4b4f-a8f9-f0bdeafd317e&parent=%2Fsites%2FDataScience%2FDocumentos+Compartilhados%2FNotasUAU%2F\">273-420A-3-2024-04-10-65793192000186-175108-0</a></td>\n",
       "    </tr>\n",
       "    <tr>\n",
       "      <th>4</th>\n",
       "      <td>273</td>\n",
       "      <td>420A</td>\n",
       "      <td>3</td>\n",
       "      <td><a href=\"https://hybrazil.sharepoint.com/sites/DataScience/Documentos%20Compartilhados/Forms/AllItems.aspx?id=%2Fsites%2FDataScience%2FDocumentos+Compartilhados%2FNotasUAU%2F2024%2F04%2F10%2F273-420A%2F273-420A-3-2024-04-10-65793192000186-175108-1.jpg&viewid=5b892423-10db-4b4f-a8f9-f0bdeafd317e&parent=%2Fsites%2FDataScience%2FDocumentos+Compartilhados%2FNotasUAU%2F\">273-420A-3-2024-04-10-65793192000186-175108-1</a></td>\n",
       "    </tr>\n",
       "    <tr>\n",
       "      <th>5</th>\n",
       "      <td>273</td>\n",
       "      <td>420A</td>\n",
       "      <td>3</td>\n",
       "      <td><a href=\"https://hybrazil.sharepoint.com/sites/DataScience/Documentos%20Compartilhados/Forms/AllItems.aspx?id=%2Fsites%2FDataScience%2FDocumentos+Compartilhados%2FNotasUAU%2F2024%2F04%2F10%2F273-420A%2F273-420A-3-2024-04-10-65793192000186-175108-2.jpg&viewid=5b892423-10db-4b4f-a8f9-f0bdeafd317e&parent=%2Fsites%2FDataScience%2FDocumentos+Compartilhados%2FNotasUAU%2F\">273-420A-3-2024-04-10-65793192000186-175108-2</a></td>\n",
       "    </tr>\n",
       "    <tr>\n",
       "      <th>6</th>\n",
       "      <td>273</td>\n",
       "      <td>420A</td>\n",
       "      <td>4</td>\n",
       "      <td><a href=\"https://hybrazil.sharepoint.com/sites/DataScience/Documentos%20Compartilhados/Forms/AllItems.aspx?id=%2Fsites%2FDataScience%2FDocumentos+Compartilhados%2FNotasUAU%2F2024%2F04%2F19%2F273-420A%2F273-420A-4-2024-04-19-54029423000163-12-0.jpg&viewid=5b892423-10db-4b4f-a8f9-f0bdeafd317e&parent=%2Fsites%2FDataScience%2FDocumentos+Compartilhados%2FNotasUAU%2F\">273-420A-4-2024-04-19-54029423000163-12-0</a></td>\n",
       "    </tr>\n",
       "    <tr>\n",
       "      <th>7</th>\n",
       "      <td>273</td>\n",
       "      <td>420A</td>\n",
       "      <td>4</td>\n",
       "      <td><a href=\"https://hybrazil.sharepoint.com/sites/DataScience/Documentos%20Compartilhados/Forms/AllItems.aspx?id=%2Fsites%2FDataScience%2FDocumentos+Compartilhados%2FNotasUAU%2F2024%2F04%2F19%2F273-420A%2F273-420A-4-2024-04-19-54029423000163-12-1.jpg&viewid=5b892423-10db-4b4f-a8f9-f0bdeafd317e&parent=%2Fsites%2FDataScience%2FDocumentos+Compartilhados%2FNotasUAU%2F\">273-420A-4-2024-04-19-54029423000163-12-1</a></td>\n",
       "    </tr>\n",
       "    <tr>\n",
       "      <th>8</th>\n",
       "      <td>273</td>\n",
       "      <td>420A</td>\n",
       "      <td>4</td>\n",
       "      <td><a href=\"https://hybrazil.sharepoint.com/sites/DataScience/Documentos%20Compartilhados/Forms/AllItems.aspx?id=%2Fsites%2FDataScience%2FDocumentos+Compartilhados%2FNotasUAU%2F2024%2F04%2F19%2F273-420A%2F273-420A-4-2024-04-19-54029423000163-12-2.jpg&viewid=5b892423-10db-4b4f-a8f9-f0bdeafd317e&parent=%2Fsites%2FDataScience%2FDocumentos+Compartilhados%2FNotasUAU%2F\">273-420A-4-2024-04-19-54029423000163-12-2</a></td>\n",
       "    </tr>\n",
       "    <tr>\n",
       "      <th>9</th>\n",
       "      <td>273</td>\n",
       "      <td>420A</td>\n",
       "      <td>5</td>\n",
       "      <td><a href=\"https://hybrazil.sharepoint.com/sites/DataScience/Documentos%20Compartilhados/Forms/AllItems.aspx?id=%2Fsites%2FDataScience%2FDocumentos+Compartilhados%2FNotasUAU%2F2024%2F04%2F19%2F273-420A%2F273-420A-5-2024-04-19-36664855000164-2189-0.jpg&viewid=5b892423-10db-4b4f-a8f9-f0bdeafd317e&parent=%2Fsites%2FDataScience%2FDocumentos+Compartilhados%2FNotasUAU%2F\">273-420A-5-2024-04-19-36664855000164-2189-0</a></td>\n",
       "    </tr>\n",
       "  </tbody>\n",
       "</table>"
      ],
      "text/plain": [
       "<IPython.core.display.HTML object>"
      ]
     },
     "metadata": {},
     "output_type": "display_data"
    }
   ],
   "source": [
    "html = df.iloc[:10][[\"Empresa\", \"Obra\", \"to_download.Processo\", \"url\"]].to_html(\n",
    "    formatters={'url': lambda x: f'<a href=\"{x}\">{get_file_id(x)}</a>'},\n",
    "    escape=False\n",
    ")\n",
    "display(HTML(html))"
   ]
  }
 ],
 "metadata": {
  "kernelspec": {
   "display_name": ".venv",
   "language": "python",
   "name": "python3"
  },
  "language_info": {
   "codemirror_mode": {
    "name": "ipython",
    "version": 3
   },
   "file_extension": ".py",
   "mimetype": "text/x-python",
   "name": "python",
   "nbconvert_exporter": "python",
   "pygments_lexer": "ipython3",
   "version": "3.12.3"
  }
 },
 "nbformat": 4,
 "nbformat_minor": 5
}
