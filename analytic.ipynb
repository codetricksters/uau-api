{
 "cells": [
  {
   "cell_type": "code",
   "execution_count": null,
   "id": "5722b994",
   "metadata": {},
   "outputs": [],
   "source": [
    "from pathlib import Path\n",
    "import json\n",
    "import pandas as pd\n",
    "from uau_api.settings import Settings\n",
    "from IPython.display import display, HTML\n",
    "from requests.compat import urlparse, unquote\n",
    "from uau_api import UauAPI\n",
    "from uau_api.utils import write_jsonl"
   ]
  },
  {
   "cell_type": "code",
   "execution_count": null,
   "id": "c7b4a6b2",
   "metadata": {},
   "outputs": [],
   "source": [
    "wd = Path(Settings().WORKDIR)\n",
    "uau = UauAPI(Settings().API_URL, Settings().API_KEY)\n",
    "uau.authenticate('leonardo', 'hybr01')\n",
    "spes = pd.read_excel(wd /'NotasUAU/SPEs_Cadastro.xlsx')\n",
    "obras_ativas = uau.Obras.obter_obras_ativas()\n",
    "obras_ativas = pd.DataFrame(obras_ativas)\n",
    "# obras_ativas = obras_ativas[obras_ativas['Empresa_obr'].isin(spes['Código'])]"
   ]
  },
  {
   "cell_type": "code",
   "execution_count": null,
   "id": "34113b07",
   "metadata": {},
   "outputs": [],
   "source": [
    "with open(wd / 'NotasUAU/processos_pagamento.jsonl') as fc:\n",
    "    processos_pagamento = [json.loads(line) for line in fc.readlines()]"
   ]
  },
  {
   "cell_type": "code",
   "execution_count": null,
   "id": "3709f4cd",
   "metadata": {},
   "outputs": [],
   "source": [
    "processos_pagamento = pd.json_normalize(processos_pagamento)"
   ]
  },
  {
   "cell_type": "code",
   "execution_count": null,
   "id": "cd2a187f",
   "metadata": {},
   "outputs": [],
   "source": [
    "obras_ativas = obras_ativas[obras_ativas['Empresa_obr'] >= 254]\n",
    "obras_ativas = obras_ativas[obras_ativas['Empresa_obr'] <= 500]"
   ]
  },
  {
   "cell_type": "code",
   "execution_count": null,
   "id": "20988ae9",
   "metadata": {},
   "outputs": [],
   "source": [
    "obras_ativas = obras_ativas[\n",
    "    ~(obras_ativas['Empresa_obr'].isin(processos_pagamento['Empresa']))\n",
    "    & ~(obras_ativas['Cod_obr'].isin(processos_pagamento['Obra']))\n",
    "]"
   ]
  },
  {
   "cell_type": "code",
   "execution_count": null,
   "id": "d0ed1958",
   "metadata": {},
   "outputs": [],
   "source": [
    "obras_ativas[obras_ativas['Descr_obr'].str.contains('UFV')]"
   ]
  },
  {
   "cell_type": "code",
   "execution_count": null,
   "id": "ed736882",
   "metadata": {},
   "outputs": [],
   "source": [
    "for _, row in obras_ativas[obras_ativas['Descr_obr'].str.contains('UFV')].iterrows():\n",
    "    empresa_obra_periodo = {\n",
    "        'EmpresaObra': [{'Empresa': row['Empresa_obr'], 'Obra': row['Cod_obr']}],\n",
    "        'PeriodoInicial': '2003-04-01T00:00:00.300Z',\n",
    "        'PeriodoFinal': '2025-05-20T00:00:00.300Z',\n",
    "    }\n",
    "    response = uau.ProcessoPagamento.consultar_processos(\n",
    "        empresa_obra_periodo=empresa_obra_periodo\n",
    "    )\n",
    "    if response:\n",
    "        write_jsonl(response, wd / 'NotasUAU/processos_pagamento.jsonl', mode='a')"
   ]
  },
  {
   "cell_type": "code",
   "execution_count": null,
   "id": "5f104bbb",
   "metadata": {},
   "outputs": [],
   "source": [
    "processos_pagamento[0]['Parcelas'][0].keys()"
   ]
  },
  {
   "cell_type": "code",
   "execution_count": null,
   "id": "4f10f655",
   "metadata": {},
   "outputs": [],
   "source": [
    "with open(wd / 'NotasUAU/downloaded.jsonl') as fc:\n",
    "    file_contents = [json.loads(line) for line in fc.readlines()]"
   ]
  },
  {
   "cell_type": "code",
   "execution_count": null,
   "id": "0e2c23ab",
   "metadata": {},
   "outputs": [],
   "source": [
    "df = pd.json_normalize(file_contents)"
   ]
  },
  {
   "cell_type": "code",
   "execution_count": null,
   "id": "164beae2",
   "metadata": {},
   "outputs": [],
   "source": [
    "def get_file_id(string):\n",
    "    query = urlparse(string).query\n",
    "    result = unquote(query) #273-420A-2-2024-04-10-00289348000736-63023-0.jpg\n",
    "    return result.split('&', 1)[0].rsplit('/')[-1].split('.')[0]"
   ]
  },
  {
   "cell_type": "code",
   "execution_count": null,
   "id": "80a02a00",
   "metadata": {},
   "outputs": [],
   "source": [
    "html = df.iloc[:10][['Empresa', 'Obra', 'to_download.Processo', 'url']].to_html(\n",
    "    formatters={'url': lambda x: f'<a href=\"{x}\">{get_file_id(x)}</a>'},\n",
    "    escape=False\n",
    ")\n",
    "display(HTML(html))"
   ]
  }
 ],
 "metadata": {
  "kernelspec": {
   "display_name": ".venv",
   "language": "python",
   "name": "python3"
  },
  "language_info": {
   "codemirror_mode": {
    "name": "ipython",
    "version": 3
   },
   "file_extension": ".py",
   "mimetype": "text/x-python",
   "name": "python",
   "nbconvert_exporter": "python",
   "pygments_lexer": "ipython3",
   "version": "3.12.3"
  }
 },
 "nbformat": 4,
 "nbformat_minor": 5
}
