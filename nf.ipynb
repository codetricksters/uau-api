{
 "cells": [
  {
   "cell_type": "code",
   "execution_count": null,
   "id": "2f451d71",
   "metadata": {},
   "outputs": [],
   "source": [
    "from pathlib import Path\n",
    "import json\n",
    "import pandas as pd\n",
    "from uau_api.settings import Settings\n",
    "from IPython.display import display, HTML\n",
    "from requests.compat import urlparse, unquote\n",
    "from uau_api import UauAPI\n",
    "from uau_api.utils import write_jsonl\n",
    "import hashlib\n",
    "import base64\n",
    "from PIL import Image\n",
    "from io import BytesIO"
   ]
  },
  {
   "cell_type": "code",
   "execution_count": null,
   "id": "bd05fe0a",
   "metadata": {},
   "outputs": [],
   "source": [
    "pd.set_option('display.max_colwidth', None)"
   ]
  },
  {
   "cell_type": "code",
   "execution_count": null,
   "id": "556b353a",
   "metadata": {},
   "outputs": [],
   "source": [
    "uau = UauAPI(Settings().API_URL, Settings().API_KEY)\n",
    "uau.authenticate('leonardo', 'hybr01')\n",
    "wd = Path('/mnt/f')\n",
    "xl_filename = wd / 'NFs.xlsx'\n",
    "xl = pd.ExcelFile(xl_filename)\n",
    "df = xl.parse(xl.sheet_names[0])"
   ]
  },
  {
   "cell_type": "code",
   "execution_count": null,
   "id": "d1d326f3",
   "metadata": {},
   "outputs": [],
   "source": [
    "empresas = uau.Empresa.obter_empresas_ativas()\n",
    "empresas = pd.json_normalize(empresas)\n",
    "obras = uau.Obras.obter_obras_ativas()\n",
    "obras = pd.json_normalize(obras)\n",
    "empresas = empresas.merge(obras, how='inner', left_on='Codigo_emp', right_on='Empresa_obr')\n",
    "# df = df.merge(empresas[['Codigo_emp', 'Desc_emp', 'Cod_obr']], how='left', left_on='Descrição empresa escrituração', right_on='Desc_emp')"
   ]
  },
  {
   "cell_type": "code",
   "execution_count": null,
   "id": "fbf4c0eb",
   "metadata": {},
   "outputs": [],
   "source": [
    "s1 = empresas.query('Desc_emp.str.contains(\"GMW\")', engine='python')['Codigo_emp']"
   ]
  },
  {
   "cell_type": "code",
   "execution_count": null,
   "id": "c65900e6",
   "metadata": {},
   "outputs": [],
   "source": [
    "df['Dt. cadastro']"
   ]
  },
  {
   "cell_type": "code",
   "execution_count": null,
   "id": "6d87a0c6",
   "metadata": {},
   "outputs": [],
   "source": [
    "s2 = df[['CNPJ/CPF', 'Dt. cadastro', 'Dt. emissão']]"
   ]
  },
  {
   "cell_type": "code",
   "execution_count": null,
   "id": "0059f85d",
   "metadata": {},
   "outputs": [],
   "source": [
    "df2 = pd.merge(left=s1, right=s2, how='cross')"
   ]
  },
  {
   "cell_type": "code",
   "execution_count": null,
   "id": "dad68cc9",
   "metadata": {},
   "outputs": [],
   "source": [
    "df2= df2.drop_duplicates()"
   ]
  },
  {
   "cell_type": "code",
   "execution_count": null,
   "id": "ad17faad",
   "metadata": {},
   "outputs": [],
   "source": [
    "def hash_dict(d):\n",
    "    # Convert items to sorted tuples for consistent hashing\n",
    "    sorted_items = tuple(sorted(d.items()))\n",
    "    # Use a cryptographic hash for robustness, or hash() for simple cases\n",
    "    return hashlib.sha256(str(sorted_items).encode()).hexdigest()\n",
    "\n",
    "\n",
    "def save_base64_str(base64_str, filename):\n",
    "    if base64_str.startswith('data:'):\n",
    "        base64_str = base64_str.split(',')[1]\n",
    "\n",
    "    with open(filename, 'wb') as f:\n",
    "        f.write(base64.b64decode(base64_str))\n",
    "\n",
    "\n",
    "def base64_to_pillow_image(string):\n",
    "    return Image.open(BytesIO(base64.b64decode(string)))\n",
    "\n",
    "\n",
    "def pillow_image_to_pdf(image: Image, file_path):\n",
    "    image.save(file_path, 'PDF', resolution=100.0)"
   ]
  },
  {
   "cell_type": "code",
   "execution_count": null,
   "id": "da57f5d4",
   "metadata": {},
   "outputs": [],
   "source": [
    "found: set = set()\n",
    "notas = []\n",
    "for _, row in df2.iterrows():\n",
    "    print('processed: %d' % _)\n",
    "\n",
    "    dict_hash = hash_dict(row.to_dict())\n",
    "    if dict_hash in found:\n",
    "        print('skip', flush=True)\n",
    "        continue\n",
    "    response = uau.NotasFiscais.consultar_nfentrada(\n",
    "        codigo_empresa=int(row['Codigo_emp']),\n",
    "        cnpj_fornecedor=str(row['CNPJ/CPF']),\n",
    "        data_inicial=min([row['Dt. cadastro'], row['Dt. emissão']]).isoformat(),\n",
    "        data_final=max([row['Dt. cadastro'], row['Dt. emissão']]).isoformat(),\n",
    "        tipo_periodo=1,\n",
    "    )\n",
    "    if response:\n",
    "        found.add(dict_hash)\n",
    "        notas.extend(response)\n",
    "write_jsonl(notas, 'notas.jsonl')"
   ]
  },
  {
   "cell_type": "code",
   "execution_count": null,
   "id": "55d31573",
   "metadata": {},
   "outputs": [],
   "source": [
    "df_notas = pd.json_normalize(notas)\n",
    "#, record_path='Processos', meta=['Empresa', 'Numero', 'CodigoFornecedor', 'CNPJCPFFornecedor'], record_prefix='Processos.')\n",
    "df_notas = df_notas[['Empresa', 'Numero', 'CodigoFornecedor', 'CNPJCPFFornecedor', 'Processos']].dropna(subset='Empresa')\n",
    "df_notas = df_notas.explode(column='Processos')\n",
    "df_notas = pd.concat([df_notas.drop(['Processos'], axis=1), df_notas['Processos'].apply(pd.Series).add_prefix('Processos.')], axis=1)\n",
    "df_notas.iloc[0]"
   ]
  },
  {
   "cell_type": "code",
   "execution_count": null,
   "id": "dc7cdddd",
   "metadata": {},
   "outputs": [],
   "source": [
    "files_found: set = set()"
   ]
  },
  {
   "cell_type": "code",
   "execution_count": null,
   "id": "2b7e9a5e",
   "metadata": {},
   "outputs": [],
   "source": [
    "for _, row in df_notas.dropna(subset='Processos.Numero').iterrows():\n",
    "    empresa = int(row['Empresa'])\n",
    "    obra = str(row['Processos.Obra'])\n",
    "    processo = int(row['Processos.Numero'])\n",
    "    numero_nota = str(row['Numero'])\n",
    "    notas_dir = wd / f'nf/{empresa}/{obra}'\n",
    "    notas_dir.mkdir(parents=True, exist_ok=True)\n",
    "    arquivos = uau.Anexo.retornar_arquivos_em_lista_bytes(\n",
    "        empresa=int(empresa), identificador=f'PROCESSO {int(processo)}-{str(obra)}'\n",
    "    )\n",
    "    if arquivos:\n",
    "        for index, arquivo in enumerate(arquivos):\n",
    "            if isinstance(arquivo, dict):\n",
    "                nome_arquivo = Path(arquivo['NomeArquivo'])\n",
    "                file_name = f'{empresa}-{obra}-{processo}-{numero_nota}-arquivo[{index}][{nome_arquivo.stem}]{nome_arquivo.suffix.lower()}'\n",
    "                pdf_name = f'{empresa}-{obra}-{processo}-{numero_nota}-arquivo[{index}][{nome_arquivo.stem}].pdf'\n",
    "                file_path = notas_dir / file_name\n",
    "                pdf_path = notas_dir / pdf_name\n",
    "                arquivo['index'] = index\n",
    "                write_jsonl(\n",
    "                    row.to_dict() | arquivo | {'imagem': str(file_path.resolve()), 'pdf': str(pdf_path.resolve())},\n",
    "                    wd / 'arquivos_notas.jsonl',\n",
    "                    mode='a',\n",
    "                )\n",
    "                dict_hash = hash_dict(arquivo)\n",
    "                if dict_hash in files_found:\n",
    "                    print(f'Duplicated {file_name}')\n",
    "                    continue\n",
    "                save_base64_str(arquivo['ConteudoArquivo'], file_path)\n",
    "                image = base64_to_pillow_image(arquivo['ConteudoArquivo'])\n",
    "                pillow_image_to_pdf(image, pdf_path)\n",
    "                files_found.add(dict_hash)\n",
    "                print(file_name)"
   ]
  },
  {
   "cell_type": "code",
   "execution_count": 264,
   "id": "91b788c3",
   "metadata": {},
   "outputs": [],
   "source": [
    "with open(wd / 'arquivos_notas.jsonl') as f:\n",
    "    file =[json.loads(line) for line in f.readlines()]"
   ]
  },
  {
   "cell_type": "code",
   "execution_count": 270,
   "id": "49590f5b",
   "metadata": {},
   "outputs": [],
   "source": [
    "pd.json_normalize(file).to_excel(wd / 'notas_fiscais.xlsx', index=False, float_format='%.2f')"
   ]
  }
 ],
 "metadata": {
  "kernelspec": {
   "display_name": "uau-api-py3.12",
   "language": "python",
   "name": "python3"
  },
  "language_info": {
   "codemirror_mode": {
    "name": "ipython",
    "version": 3
   },
   "file_extension": ".py",
   "mimetype": "text/x-python",
   "name": "python",
   "nbconvert_exporter": "python",
   "pygments_lexer": "ipython3",
   "version": "3.12.4"
  }
 },
 "nbformat": 4,
 "nbformat_minor": 5
}
