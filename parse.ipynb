{
 "cells": [
  {
   "cell_type": "code",
   "execution_count": null,
   "id": "809fa2f9",
   "metadata": {},
   "outputs": [],
   "source": [
    "from uau_api import UauAPI\n",
    "from uau_api.settings import Settings\n",
    "import functools\n",
    "# Initialize the client\n",
    "uau = UauAPI(Settings().API_URL, Settings().API_KEY)"
   ]
  },
  {
   "cell_type": "code",
   "execution_count": null,
   "id": "a543397a",
   "metadata": {},
   "outputs": [],
   "source": [
    "# Authenticate\n",
    "uau.authenticate(\"leonardo\", \"hybr01\")"
   ]
  },
  {
   "cell_type": "code",
   "execution_count": null,
   "id": "005c05a7",
   "metadata": {},
   "outputs": [],
   "source": [
    "import inspect\n",
    "import six\n",
    "\n",
    "def inner_classes_list(cls):\n",
    "    return [cls_attribute for cls_attribute in cls.__dict__.values()\n",
    "            if inspect.isclass(cls_attribute)]"
   ]
  },
  {
   "cell_type": "code",
   "execution_count": null,
   "id": "2288c503",
   "metadata": {},
   "outputs": [],
   "source": [
    "dir(uau)"
   ]
  },
  {
   "cell_type": "code",
   "execution_count": null,
   "id": "dca12944",
   "metadata": {},
   "outputs": [],
   "source": [
    "empresa_obra_periodo = {\"EmpresaObra\": [\n",
    "      {\n",
    "        \"Empresa\": 33,\n",
    "        \"Obra\": \"ADM\"\n",
    "      }\n",
    "    ],\n",
    "    \"PeriodoInicial\": \"2025-04-01T01:40:59.356Z\",\n",
    "    \"PeriodoFinal\": \"2025-04-10T01:40:59.356Z\"}\n",
    "result = functools.reduce(getattr, [\"ProcessoPagamento\", \"consultar_processos\"], uau)(empresa_obra_periodo=empresa_obra_periodo)"
   ]
  },
  {
   "cell_type": "code",
   "execution_count": null,
   "id": "e15fc8e2",
   "metadata": {},
   "outputs": [],
   "source": [
    "# Function to flatten nested dictionary with dot notation\n",
    "def flatten_dict(d, parent_key='', sep='.'):\n",
    "    items = []\n",
    "    for k, v in d.items():\n",
    "        new_key = f\"{parent_key}{sep}{k}\" if parent_key else k\n",
    "        if isinstance(v, dict):\n",
    "            items.extend(flatten_dict(v, new_key, sep=sep).items())\n",
    "        else:\n",
    "            items.append((new_key, v))\n",
    "    return dict(items)"
   ]
  }
 ],
 "metadata": {
  "kernelspec": {
   "display_name": ".venv",
   "language": "python",
   "name": "python3"
  },
  "language_info": {
   "codemirror_mode": {
    "name": "ipython",
    "version": 3
   },
   "file_extension": ".py",
   "mimetype": "text/x-python",
   "name": "python",
   "nbconvert_exporter": "python",
   "pygments_lexer": "ipython3",
   "version": "3.12.4"
  }
 },
 "nbformat": 4,
 "nbformat_minor": 5
}
