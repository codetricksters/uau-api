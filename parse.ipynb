{
 "cells": [
  {
   "cell_type": "code",
   "execution_count": 1,
   "id": "809fa2f9",
   "metadata": {},
   "outputs": [
    {
     "ename": "ValueError",
     "evalue": "API client must be authenticated",
     "output_type": "error",
     "traceback": [
      "\u001b[0;31m---------------------------------------------------------------------------\u001b[0m",
      "\u001b[0;31mValueError\u001b[0m                                Traceback (most recent call last)",
      "Cell \u001b[0;32mIn[1], line 4\u001b[0m\n\u001b[1;32m      2\u001b[0m \u001b[38;5;28;01mfrom\u001b[39;00m\u001b[38;5;250m \u001b[39m\u001b[38;5;21;01muau_api\u001b[39;00m\u001b[38;5;21;01m.\u001b[39;00m\u001b[38;5;21;01msettings\u001b[39;00m\u001b[38;5;250m \u001b[39m\u001b[38;5;28;01mimport\u001b[39;00m Settings\n\u001b[1;32m      3\u001b[0m \u001b[38;5;66;03m# Initialize the client\u001b[39;00m\n\u001b[0;32m----> 4\u001b[0m uau \u001b[38;5;241m=\u001b[39m \u001b[43mUauAPI\u001b[49m\u001b[43m(\u001b[49m\u001b[43mSettings\u001b[49m\u001b[43m(\u001b[49m\u001b[43m)\u001b[49m\u001b[38;5;241;43m.\u001b[39;49m\u001b[43mAPI_URL\u001b[49m\u001b[43m,\u001b[49m\u001b[43m \u001b[49m\u001b[43mSettings\u001b[49m\u001b[43m(\u001b[49m\u001b[43m)\u001b[49m\u001b[38;5;241;43m.\u001b[39;49m\u001b[43mAPI_KEY\u001b[49m\u001b[43m)\u001b[49m\n\u001b[1;32m      6\u001b[0m \u001b[38;5;66;03m# Authenticate\u001b[39;00m\n\u001b[1;32m      7\u001b[0m uau\u001b[38;5;241m.\u001b[39mauthenticate(\u001b[38;5;124m\"\u001b[39m\u001b[38;5;124mleonardo\u001b[39m\u001b[38;5;124m\"\u001b[39m, \u001b[38;5;124m\"\u001b[39m\u001b[38;5;124mhybr01\u001b[39m\u001b[38;5;124m\"\u001b[39m)\n",
      "File \u001b[0;32m~/pyprojects/uau-api/uau_api/client.py:18\u001b[0m, in \u001b[0;36mUauAPI.__init__\u001b[0;34m(self, base_url, api_key, session)\u001b[0m\n\u001b[1;32m     16\u001b[0m \u001b[38;5;28msuper\u001b[39m()\u001b[38;5;241m.\u001b[39m\u001b[38;5;21m__init__\u001b[39m(base_url, api_key, session)\n\u001b[1;32m     17\u001b[0m \u001b[38;5;28mself\u001b[39m\u001b[38;5;241m.\u001b[39mis_authenticated \u001b[38;5;241m=\u001b[39m \u001b[38;5;28;01mFalse\u001b[39;00m\n\u001b[0;32m---> 18\u001b[0m \u001b[38;5;28;43mself\u001b[39;49m\u001b[38;5;241;43m.\u001b[39;49m\u001b[43m_init_api_groups\u001b[49m\u001b[43m(\u001b[49m\u001b[43m)\u001b[49m\n\u001b[1;32m     19\u001b[0m \u001b[38;5;28mself\u001b[39m\u001b[38;5;241m.\u001b[39msession\u001b[38;5;241m.\u001b[39mheaders[\u001b[38;5;124m'\u001b[39m\u001b[38;5;124mX-INTEGRATION-Authorization\u001b[39m\u001b[38;5;124m'\u001b[39m] \u001b[38;5;241m=\u001b[39m api_key\n",
      "File \u001b[0;32m~/pyprojects/uau-api/uau_api/client.py:29\u001b[0m, in \u001b[0;36mUauAPI._init_api_groups\u001b[0;34m(self)\u001b[0m\n\u001b[1;32m     26\u001b[0m \u001b[38;5;28;01mfrom\u001b[39;00m\u001b[38;5;250m \u001b[39m\u001b[38;5;21;01m.\u001b[39;00m\u001b[38;5;21;01mgroups\u001b[39;00m\u001b[38;5;21;01m.\u001b[39;00m\u001b[38;5;21;01mobras\u001b[39;00m\u001b[38;5;250m \u001b[39m\u001b[38;5;28;01mimport\u001b[39;00m Obras\n\u001b[1;32m     28\u001b[0m \u001b[38;5;66;03m# Initialize group instances\u001b[39;00m\n\u001b[0;32m---> 29\u001b[0m \u001b[38;5;28mself\u001b[39m\u001b[38;5;241m.\u001b[39mAcompanhamentosServicos \u001b[38;5;241m=\u001b[39m \u001b[43mAcompanhamentosServicos\u001b[49m\u001b[43m(\u001b[49m\u001b[38;5;28;43mself\u001b[39;49m\u001b[43m)\u001b[49m\n\u001b[1;32m     30\u001b[0m \u001b[38;5;28mself\u001b[39m\u001b[38;5;241m.\u001b[39mAnexo \u001b[38;5;241m=\u001b[39m Anexo(\u001b[38;5;28mself\u001b[39m)\n\u001b[1;32m     31\u001b[0m \u001b[38;5;28mself\u001b[39m\u001b[38;5;241m.\u001b[39mObras \u001b[38;5;241m=\u001b[39m Obras(\u001b[38;5;28mself\u001b[39m)\n",
      "File \u001b[0;32m~/pyprojects/uau-api/uau_api/groups/acompanhamentos_servicos.py:20\u001b[0m, in \u001b[0;36mAcompanhamentosServicos.__init__\u001b[0;34m(self, api)\u001b[0m\n\u001b[1;32m     14\u001b[0m \u001b[38;5;250m\u001b[39m\u001b[38;5;124;03m\"\"\"Initialize with API client\u001b[39;00m\n\u001b[1;32m     15\u001b[0m \n\u001b[1;32m     16\u001b[0m \u001b[38;5;124;03mArgs:\u001b[39;00m\n\u001b[1;32m     17\u001b[0m \u001b[38;5;124;03m    api: The authenticated API client instance\u001b[39;00m\n\u001b[1;32m     18\u001b[0m \u001b[38;5;124;03m\"\"\"\u001b[39;00m\n\u001b[1;32m     19\u001b[0m \u001b[38;5;28;01mif\u001b[39;00m \u001b[38;5;129;01mnot\u001b[39;00m \u001b[38;5;28mhasattr\u001b[39m(api, \u001b[38;5;124m\"\u001b[39m\u001b[38;5;124mis_authenticated\u001b[39m\u001b[38;5;124m\"\u001b[39m) \u001b[38;5;129;01mor\u001b[39;00m \u001b[38;5;129;01mnot\u001b[39;00m api\u001b[38;5;241m.\u001b[39mis_authenticated:\n\u001b[0;32m---> 20\u001b[0m     \u001b[38;5;28;01mraise\u001b[39;00m \u001b[38;5;167;01mValueError\u001b[39;00m(\u001b[38;5;124m\"\u001b[39m\u001b[38;5;124mAPI client must be authenticated\u001b[39m\u001b[38;5;124m\"\u001b[39m)\n\u001b[1;32m     21\u001b[0m \u001b[38;5;28mself\u001b[39m\u001b[38;5;241m.\u001b[39mapi \u001b[38;5;241m=\u001b[39m RequestsApi(api\u001b[38;5;241m.\u001b[39mbase_url, session\u001b[38;5;241m=\u001b[39mapi\u001b[38;5;241m.\u001b[39mget_session())\n",
      "\u001b[0;31mValueError\u001b[0m: API client must be authenticated"
     ]
    }
   ],
   "source": [
    "from uau_api import UauAPI\n",
    "from uau_api.settings import Settings\n",
    "# Initialize the client\n",
    "uau = UauAPI(Settings().API_URL, Settings().API_KEY)\n",
    "\n",
    "# Authenticate\n",
    "uau.authenticate(\"leonardo\", \"hybr01\")\n",
    "\n",
    "# Use endpoints through their respective groups\n",
    "# Example: Using AcompanhamentosServicos\n"
   ]
  },
  {
   "cell_type": "code",
   "execution_count": 1,
   "id": "dca12944",
   "metadata": {},
   "outputs": [],
   "source": [
    "import os"
   ]
  },
  {
   "cell_type": "code",
   "execution_count": 2,
   "id": "50cedd31",
   "metadata": {},
   "outputs": [
    {
     "data": {
      "text/plain": [
       "['pedido_compra.py',\n",
       " 'prospect.py',\n",
       " 'extrato_do_cliente.py',\n",
       " 'documentos_digitais_integracao.py',\n",
       " 'autenticador.py',\n",
       " 'insumos_geral.py',\n",
       " 'processo_pagamento.py',\n",
       " 'requisicao_compra.py',\n",
       " 'anexo.py',\n",
       " 'boleto_services.py',\n",
       " 'acompanhamento_contrato_venda.py',\n",
       " 'cotacao.py',\n",
       " 'planejamento.py',\n",
       " 'acompanhar_entrega.py',\n",
       " 'atendimento.py',\n",
       " 'contabil.py',\n",
       " 'modelo_venda.py',\n",
       " 'chave_pix.py',\n",
       " 'reserva.py',\n",
       " '__pycache__',\n",
       " 'cobranca_pix.py',\n",
       " 'fiscal.py',\n",
       " 'comissao.py',\n",
       " 'venda.py',\n",
       " 'funcionario.py',\n",
       " 'proposta.py',\n",
       " 'localidade.py',\n",
       " 'empresa.py',\n",
       " 'composicoes.py',\n",
       " 'usuarios.py',\n",
       " 'banco_horas.py',\n",
       " 'acompanhamentos_servicos.py',\n",
       " 'obras.py',\n",
       " 'correio_eletronico.py',\n",
       " 'rotinas_gerais.py',\n",
       " 'shopping.py',\n",
       " 'contrato_material_servico.py',\n",
       " 'orcamento.py',\n",
       " 'config_gerais.py',\n",
       " 'estrutura.py',\n",
       " 'medicao.py',\n",
       " 'folha.py',\n",
       " 'notas_fiscais.py',\n",
       " 'relatorio_i_r_p_f.py',\n",
       " 'lista_preco_referencia.py',\n",
       " 'eventos.py',\n",
       " 'pessoas.py',\n",
       " 'recebiveis.py',\n",
       " 'espelho.py',\n",
       " 'webhook.py']"
      ]
     },
     "execution_count": 2,
     "metadata": {},
     "output_type": "execute_result"
    }
   ],
   "source": [
    "os.listdir('uau_api/groups')"
   ]
  }
 ],
 "metadata": {
  "kernelspec": {
   "display_name": ".venv",
   "language": "python",
   "name": "python3"
  },
  "language_info": {
   "codemirror_mode": {
    "name": "ipython",
    "version": 3
   },
   "file_extension": ".py",
   "mimetype": "text/x-python",
   "name": "python",
   "nbconvert_exporter": "python",
   "pygments_lexer": "ipython3",
   "version": "3.12.4"
  }
 },
 "nbformat": 4,
 "nbformat_minor": 5
}
